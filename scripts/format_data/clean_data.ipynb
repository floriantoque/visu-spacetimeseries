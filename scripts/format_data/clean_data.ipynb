{
 "cells": [
  {
   "cell_type": "code",
   "execution_count": 1,
   "metadata": {},
   "outputs": [],
   "source": [
    "import sys \n",
    "sys.path.insert(0, '../')\n",
    "import utils\n",
    "import pandas as pd"
   ]
  },
  {
   "cell_type": "code",
   "execution_count": 17,
   "metadata": {},
   "outputs": [],
   "source": [
    "# Clean obs\n",
    "obs = pd.read_csv(\"/home/toque/visu-spacetimeseries/data/noclean_data/obs_mtl.csv\")\n",
    "\n",
    "list_days = sorted(list(set([i[:10] for i in obs['Datetime'].values])))\n",
    "list_timestep = [utils.build_timestamp_list(i+' 00:00:00', i+' 23:45:00', time_step_second=15*60) for i in list_days]\n",
    "list_timestep = [j for i in list_timestep for j in i]\n",
    "\n",
    "df_dates = pd.DataFrame(data=list_timestep, columns = ['Datetime'])\n",
    "obs_clean = df_dates.set_index('Datetime').join(obs.set_index('Datetime')).fillna(0).reset_index()\n",
    "\n",
    "obs_clean.to_csv(\"/home/toque/visu-spacetimeseries/data/clean_data/obs_mtl.csv\", index=False)"
   ]
  },
  {
   "cell_type": "code",
   "execution_count": 2,
   "metadata": {},
   "outputs": [],
   "source": [
    "# Clean stop info\n",
    "sto = pd.read_csv(\"/home/toque/visu-spacetimeseries/data/noclean_data/stop_info.csv\")\n",
    "\n",
    "dict_color_hexa = {'verte':'#029a3e', 'orange':'#ee7d01', 'bleue':'009ee2', 'jaune':'#ffe300'}\n",
    "sto['route_color_hexa'] = [i.replace('verte','#029a3e')\n",
    "                           .replace('orange','#ee7d01')\n",
    "                           .replace('bleue','#009ee2')\n",
    "                           .replace('jaune','#ffe300') for i in sto['route_color'].values]\n",
    "\n",
    "sto.to_csv(\"/home/toque/visu-spacetimeseries/dashboards/data/csv/stop_info.csv\", index=False)"
   ]
  },
  {
   "cell_type": "code",
   "execution_count": 11,
   "metadata": {},
   "outputs": [],
   "source": [
    "# Clean incidents\n",
    "inc = pd.read_csv(\"/home/toque/visu-spacetimeseries/data/noclean_data/incidents_2015_2017.csv\")\n",
    "eve = pd.read_csv(\"/home/toque/visu-spacetimeseries/data/clean_data/events_2015_2018_filtered.csv\")\n",
    "\n",
    "inc.columns = ['start_datetime', 'end_datetime', 'stop_id',\n",
    "               'symptom_id', 'symptom', 'category_id', 'category',\n",
    "                'nb_delayed_passengers', 'incident_id', 'nb_timebin_incident' ]\n",
    "\n",
    "inc.to_csv(\"/home/toque/visu-spacetimeseries/data/clean_data/incidents.csv\", index=False)"
   ]
  },
  {
   "cell_type": "code",
   "execution_count": null,
   "metadata": {},
   "outputs": [],
   "source": []
  }
 ],
 "metadata": {
  "kernelspec": {
   "display_name": "Python 3",
   "language": "python",
   "name": "python3"
  },
  "language_info": {
   "codemirror_mode": {
    "name": "ipython",
    "version": 3
   },
   "file_extension": ".py",
   "mimetype": "text/x-python",
   "name": "python",
   "nbconvert_exporter": "python",
   "pygments_lexer": "ipython3",
   "version": "3.7.3"
  }
 },
 "nbformat": 4,
 "nbformat_minor": 2
}
