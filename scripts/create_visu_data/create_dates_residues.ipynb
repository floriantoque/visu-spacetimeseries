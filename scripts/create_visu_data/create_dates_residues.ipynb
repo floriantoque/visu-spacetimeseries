{
 "cells": [
  {
   "cell_type": "code",
   "execution_count": 3,
   "metadata": {},
   "outputs": [],
   "source": [
    "import sys \n",
    "sys.path.insert(0, '../')\n",
    "import utils\n",
    "\n",
    "from tqdm import tqdm\n",
    "import pandas as pd\n",
    "from datetime import datetime as dtlib\n",
    "import os\n",
    "\n"
   ]
  },
  {
   "cell_type": "code",
   "execution_count": 4,
   "metadata": {},
   "outputs": [],
   "source": [
    "obs_path = '../../data/clean_data/obs_mtl.csv'\n",
    "preds_path = ['../../data/clean_data/pred_rf2.csv',\n",
    "             '../../data/clean_data/pred_rf4.csv']\n",
    "models_name = ['rf2', 'rf4']\n",
    "\n",
    "agg_function = [utils.agg_max, utils.agg_min, utils.agg_maxabs_sign_at_1, utils.agg_maxabs_sign_at_4]\n",
    "agg_function_name = ['agg_max', 'agg_min', 'agg_maxabs_sign_at_1', 'agg_maxabs_sign_at_4']\n",
    "\n",
    "norm_function = [utils.norm_allcolumns_allrows, utils.norm_allcolumns_perday, utils.norm_percolumn_allrows,\n",
    "                 utils.norm_percolumn_perday]\n",
    "norm_function_name = ['norm_allstop_allperiod', 'norm_allstop_perday',\n",
    "                      'norm_perstop_allperiod', 'norm_perstop_perday']\n",
    "\n",
    "norm_year_function = [utils.norm_allcolumns_allrows, utils.norm_percolumn_allrows, utils.norm_allcolumns_perrow]\n",
    "norm_year_function_name = ['norm_allstop_allday', 'norm_perstop_allday', 'norm_allstop_perday']\n",
    "\n",
    "index_ = 'Datetime'\n",
    "\n",
    "json_path = '../../dashboards/data/json/'\n",
    "csv_path = '../../dashboards/data/csv/'"
   ]
  },
  {
   "cell_type": "code",
   "execution_count": 5,
   "metadata": {},
   "outputs": [],
   "source": [
    "obs = pd.read_csv(obs_path)\n",
    "preds = [pd.read_csv(i) for i in preds_path]"
   ]
  },
  {
   "cell_type": "code",
   "execution_count": 6,
   "metadata": {},
   "outputs": [],
   "source": [
    "if not os.path.exists(json_path):\n",
    "    os.makedirs(json_path)\n",
    "if not os.path.exists(csv_path):\n",
    "    os.makedirs(csv_path)"
   ]
  },
  {
   "cell_type": "markdown",
   "metadata": {},
   "source": [
    "# Create Dates"
   ]
  },
  {
   "cell_type": "code",
   "execution_count": 7,
   "metadata": {},
   "outputs": [],
   "source": [
    "dates = {}\n",
    "dates['year'] = {}\n",
    "dates['year_list'] = sorted(list(set([i[:4] for i in obs[index_].values])))\n",
    "dates['timestep_list'] = sorted(list(set([i[11:] for i in obs[index_].values])))\n",
    "data = [[i[:4],i[5:10]] for i in sorted(list(set([j[:10] for j in obs[index_].values])))]\n",
    "days = pd.DataFrame(data = data, columns = ['year', 'day']).set_index('year')\n",
    "\n",
    "for i in dates['year_list']:\n",
    "    dates['year'][i] = {}\n",
    "    dates['year'][i]['mm'] = [i[:2] for i in days.loc[i].values.flatten().tolist()]\n",
    "    dates['year'][i]['month_en'] = [dtlib.strptime(i+'-'+d,'%Y-%m-%d').strftime(\"%B\") for d in days.loc[i].values.flatten().tolist()]\n",
    "    dates['year'][i]['mm-dd'] = days.loc[i].values.flatten().tolist()\n",
    "    dates['year'][i]['weekday_en'] = [dtlib.strptime(i+'-'+d,'%Y-%m-%d').strftime(\"%A\") for d in days.loc[i].values.flatten().tolist()]"
   ]
  },
  {
   "cell_type": "markdown",
   "metadata": {},
   "source": [
    "# Save Dates"
   ]
  },
  {
   "cell_type": "code",
   "execution_count": 6,
   "metadata": {},
   "outputs": [],
   "source": [
    "with open(json_path+'dates.json', \"w\") as text_file:\n",
    "    text_file.write(\"dates = {};\".format(dates))"
   ]
  },
  {
   "cell_type": "markdown",
   "metadata": {},
   "source": [
    "# Create Residues"
   ]
  },
  {
   "cell_type": "code",
   "execution_count": 7,
   "metadata": {},
   "outputs": [],
   "source": [
    "#residues[year][pred_name][norm]\n",
    "residues = {}\n",
    "for y in dates['year_list']:\n",
    "    residues[y] = {}\n",
    "    for p, mn in zip(preds, models_name):\n",
    "        residues[y]['residues_'+mn] = {}\n",
    "        residues[y]['residues_'+mn]['no_norm'] = (obs.set_index(index_).loc[y:str(int(y)+1)] -\n",
    "                                      p.set_index(index_).loc[y:str(int(y)+1)]).reset_index(index_) \n",
    "        "
   ]
  },
  {
   "cell_type": "code",
   "execution_count": 8,
   "metadata": {},
   "outputs": [
    {
     "name": "stderr",
     "output_type": "stream",
     "text": [
      "100%|██████████| 3/3 [02:24<00:00, 48.20s/it]\n"
     ]
    }
   ],
   "source": [
    "#normalize residues\n",
    "for y in tqdm(dates['year_list']):\n",
    "    for p, mn in zip(preds, models_name):\n",
    "        for nf, nfn in zip(norm_function, norm_function_name):\n",
    "            residues[y]['residues_'+mn][nfn] = nf(residues[y]['residues_'+mn]['no_norm'])\n"
   ]
  },
  {
   "cell_type": "markdown",
   "metadata": {},
   "source": [
    "# Save Residues"
   ]
  },
  {
   "cell_type": "code",
   "execution_count": 193,
   "metadata": {},
   "outputs": [
    {
     "name": "stderr",
     "output_type": "stream",
     "text": [
      "100%|██████████| 3/3 [09:36<00:00, 188.70s/it]\n"
     ]
    }
   ],
   "source": [
    "for y in tqdm(dates['year_list']):\n",
    "    for md in dates['year'][y]['mm-dd']:\n",
    "        m = md[:2]\n",
    "        d = md[3:]\n",
    "        for mn in models_name:\n",
    "            for nfn in norm_function_name+['no_norm']:\n",
    "                path = '{}residues/{}/{}/{}/'.format(csv_path, y, m, d)\n",
    "                if not os.path.exists(path):\n",
    "                    os.makedirs(path)\n",
    "                path_file = '{}{}__{}.csv'.format(path, 'residues_'+mn, nfn)\n",
    "                df = residues[y]['residues_'+mn][nfn].copy()\n",
    "                stop_id = df.set_index(index_).columns.values.tolist()\n",
    "                df['ymd'] = [i[:10] for i in df.set_index(index_).index.values]\n",
    "                df[index_] = [i[11:] for i in df.set_index(index_).index.values]\n",
    "                df = df.set_index('ymd').loc['{}-{}'.format(y,md)]\n",
    "                df = df.reset_index()[[index_]+stop_id]\n",
    "                utils.stack_df(df).to_csv(path_file, index=False)"
   ]
  },
  {
   "cell_type": "markdown",
   "metadata": {},
   "source": [
    "# Create Residues aggregated for year visualization"
   ]
  },
  {
   "cell_type": "code",
   "execution_count": 9,
   "metadata": {},
   "outputs": [
    {
     "name": "stderr",
     "output_type": "stream",
     "text": [
      "100%|██████████| 3/3 [02:10<00:00, 43.61s/it]\n"
     ]
    }
   ],
   "source": [
    "#residues_aggyear[year][pred_name][agg_function_name][norm]\n",
    "residues_aggyear = {}\n",
    "\n",
    "for y in tqdm(dates['year_list']):\n",
    "    residues_aggyear[y] = {}\n",
    "    for p, mn in zip(preds, models_name):\n",
    "        residues_aggyear[y]['residues_'+mn]={}\n",
    "        for agg_f, agg_f_n in zip(agg_function, agg_function_name):\n",
    "            residues_aggyear[y]['residues_'+mn][agg_f_n] = {}\n",
    "            residues_aggyear[y]['residues_'+mn][agg_f_n]['no_norm'] = utils.agg_year_df(residues[y]['residues_'+mn]['no_norm'], agg_f)"
   ]
  },
  {
   "cell_type": "code",
   "execution_count": 10,
   "metadata": {},
   "outputs": [
    {
     "name": "stderr",
     "output_type": "stream",
     "text": [
      "100%|██████████| 3/3 [00:04<00:00,  1.49s/it]\n"
     ]
    }
   ],
   "source": [
    "#normalize residues_aggyear\n",
    "for y in tqdm(dates['year_list']):\n",
    "    for p, mn in zip(preds, models_name):\n",
    "        for agg_f, agg_f_n in zip(agg_function, agg_function_name):\n",
    "            for nyf, nyfn in zip(norm_year_function, norm_year_function_name): \n",
    "                residues_aggyear[y]['residues_'+mn][agg_f_n][nyfn] = nyf(residues_aggyear[y]['residues_'+mn][agg_f_n]['no_norm'])"
   ]
  },
  {
   "cell_type": "markdown",
   "metadata": {},
   "source": [
    "# Save residues aggregated for year visualization "
   ]
  },
  {
   "cell_type": "code",
   "execution_count": 11,
   "metadata": {},
   "outputs": [
    {
     "name": "stderr",
     "output_type": "stream",
     "text": [
      "100%|██████████| 3/3 [00:06<00:00,  2.16s/it]\n"
     ]
    }
   ],
   "source": [
    "for y in tqdm(dates['year_list']):\n",
    "    for mn in models_name:\n",
    "        for agg_f_n in agg_function_name:\n",
    "            for nyfn in norm_year_function_name+['no_norm']: \n",
    "                path = '{}residues_visuyear/{}/'.format(csv_path, y)\n",
    "                if not os.path.exists(path):\n",
    "                    os.makedirs(path)\n",
    "                path_file = '{}{}__{}__{}.csv'.format(path, 'residues_'+mn, agg_f_n, nyfn)\n",
    "                df = utils.stack_df(residues_aggyear[y]['residues_'+mn][agg_f_n][nyfn])\n",
    "                df.to_csv(path_file, index=False)\n"
   ]
  },
  {
   "cell_type": "code",
   "execution_count": null,
   "metadata": {},
   "outputs": [],
   "source": [
    "#Draft"
   ]
  },
  {
   "cell_type": "code",
   "execution_count": 199,
   "metadata": {},
   "outputs": [],
   "source": [
    "#import matplotlib.pyplot as plt\n",
    "#o = obs.set_index('Datetime').loc['2017-03-15 00:00:00':'2017-03-15 23:45:00'][['11']].copy()\n",
    "#p = preds[1].set_index('Datetime').loc['2017-03-15 00:00:00':'2017-03-15 23:45:00'][['11']].copy()\n",
    "#o.columns = ['obs']\n",
    "#p.columns = ['rf4']\n",
    "#o.join(p).plot(figsize=(10,4))\n",
    "#plt.show()"
   ]
  }
 ],
 "metadata": {
  "kernelspec": {
   "display_name": "Python 3",
   "language": "python",
   "name": "python3"
  },
  "language_info": {
   "codemirror_mode": {
    "name": "ipython",
    "version": 3
   },
   "file_extension": ".py",
   "mimetype": "text/x-python",
   "name": "python",
   "nbconvert_exporter": "python",
   "pygments_lexer": "ipython3",
   "version": "3.7.3"
  }
 },
 "nbformat": 4,
 "nbformat_minor": 2
}
