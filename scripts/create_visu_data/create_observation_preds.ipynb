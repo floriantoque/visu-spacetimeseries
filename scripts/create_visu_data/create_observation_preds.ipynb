{
 "cells": [
  {
   "cell_type": "code",
   "execution_count": 1,
   "metadata": {},
   "outputs": [],
   "source": [
    "import sys \n",
    "sys.path.insert(0, '../')\n",
    "import utils\n",
    "\n",
    "from tqdm import tqdm\n",
    "import pandas as pd\n",
    "from datetime import datetime as dtlib\n",
    "import os\n"
   ]
  },
  {
   "cell_type": "code",
   "execution_count": 2,
   "metadata": {},
   "outputs": [],
   "source": [
    "obs_path = '../../data/clean_data/obs_mtl.csv'\n",
    "preds_path = ['../../data/clean_data/pred_rf2.csv',\n",
    "             '../../data/clean_data/pred_rf4.csv']\n",
    "models_name = ['rf2', 'rf4']\n",
    "\n",
    "agg_function = [utils.agg_max, utils.agg_min, utils.agg_maxabs_sign_at_1, utils.agg_maxabs_sign_at_4]\n",
    "agg_function_name = ['agg_max', 'agg_min', 'agg_maxabs_sign_at_1', 'agg_maxabs_sign_at_4']\n",
    "\n",
    "norm_function = [utils.norm_allcolumns_allrows, utils.norm_allcolumns_perday, utils.norm_percolumn_allrows,\n",
    "                 utils.norm_percolumn_perday]\n",
    "norm_function_name = ['norm_allstop_allperiod', 'norm_allstop_perday',\n",
    "                      'norm_perstop_allperiod', 'norm_perstop_perday']\n",
    "\n",
    "norm_year_function = [utils.norm_allcolumns_allrows, utils.norm_percolumn_allrows, utils.norm_allcolumns_perrow]\n",
    "norm_year_function_name = ['norm_allstop_allday', 'norm_perstop_allday', 'norm_allstop_perday']\n",
    "\n",
    "index_ = 'Datetime'\n",
    "\n",
    "json_path = '../../dashboards/data/json/'\n",
    "csv_path = '../../dashboards/data/csv/'"
   ]
  },
  {
   "cell_type": "code",
   "execution_count": 3,
   "metadata": {},
   "outputs": [],
   "source": [
    "obs = pd.read_csv(obs_path)\n",
    "preds = [pd.read_csv(i) for i in preds_path]"
   ]
  },
  {
   "cell_type": "code",
   "execution_count": 4,
   "metadata": {},
   "outputs": [],
   "source": [
    "if not os.path.exists(json_path):\n",
    "    os.makedirs(json_path)\n",
    "if not os.path.exists(csv_path):\n",
    "    os.makedirs(csv_path)"
   ]
  },
  {
   "cell_type": "code",
   "execution_count": 5,
   "metadata": {},
   "outputs": [],
   "source": [
    "# Dates"
   ]
  },
  {
   "cell_type": "code",
   "execution_count": 6,
   "metadata": {},
   "outputs": [],
   "source": [
    "dates = {}\n",
    "dates['year'] = {}\n",
    "dates['year_list'] = sorted(list(set([i[:4] for i in obs[index_].values])))\n",
    "dates['timestep_list'] = sorted(list(set([i[11:] for i in obs[index_].values])))\n",
    "data = [[i[:4],i[5:10]] for i in sorted(list(set([j[:10] for j in obs[index_].values])))]\n",
    "days = pd.DataFrame(data = data, columns = ['year', 'day']).set_index('year')\n",
    "\n",
    "for i in dates['year_list']:\n",
    "    dates['year'][i] = {}\n",
    "    dates['year'][i]['mm'] = [i[:2] for i in days.loc[i].values.flatten().tolist()]\n",
    "    dates['year'][i]['month_en'] = [dtlib.strptime(i+'-'+d,'%Y-%m-%d').strftime(\"%B\") for d in days.loc[i].values.flatten().tolist()]\n",
    "    dates['year'][i]['mm-dd'] = days.loc[i].values.flatten().tolist()\n",
    "    dates['year'][i]['weekday_en'] = [dtlib.strptime(i+'-'+d,'%Y-%m-%d').strftime(\"%A\") for d in days.loc[i].values.flatten().tolist()]"
   ]
  },
  {
   "cell_type": "code",
   "execution_count": 7,
   "metadata": {},
   "outputs": [],
   "source": [
    "# Create Observation\\_data"
   ]
  },
  {
   "cell_type": "code",
   "execution_count": 8,
   "metadata": {},
   "outputs": [],
   "source": [
    "observation_data = {}\n",
    "for y in dates['year_list']:\n",
    "    observation_data[y] = obs.set_index(index_).loc[y:str(int(y)+1)].reset_index()"
   ]
  },
  {
   "cell_type": "code",
   "execution_count": 9,
   "metadata": {},
   "outputs": [],
   "source": [
    "# Save Observation\\_data"
   ]
  },
  {
   "cell_type": "code",
   "execution_count": 10,
   "metadata": {},
   "outputs": [
    {
     "name": "stderr",
     "output_type": "stream",
     "text": [
      "100%|██████████| 3/3 [00:55<00:00, 18.02s/it]\n"
     ]
    }
   ],
   "source": [
    "for y in tqdm(dates['year_list']):\n",
    "    for md in dates['year'][y]['mm-dd']:\n",
    "        m = md[:2]\n",
    "        d = md[3:]\n",
    "        path = '{}observation/{}/{}/{}/'.format(csv_path, y, m, d)\n",
    "        if not os.path.exists(path):\n",
    "            os.makedirs(path)\n",
    "        path_file = '{}observation.csv'.format(path)\n",
    "        df = observation_data[y].copy()\n",
    "        stop_id = df.set_index(index_).columns.values.tolist()\n",
    "        df['ymd'] = [i[:10] for i in df.set_index(index_).index.values]\n",
    "        df[index_] = [i[11:] for i in df.set_index(index_).index.values]\n",
    "        df = df.set_index('ymd').loc['{}-{}'.format(y,md)]\n",
    "        df = df.reset_index()[[index_]+stop_id]\n",
    "        utils.stack_df(df).to_csv(path_file, index=False)"
   ]
  },
  {
   "cell_type": "code",
   "execution_count": 11,
   "metadata": {},
   "outputs": [],
   "source": [
    "# Create Prediction\\_data"
   ]
  },
  {
   "cell_type": "code",
   "execution_count": 12,
   "metadata": {},
   "outputs": [],
   "source": [
    "prediction_data = {}\n",
    "for y in dates['year_list']:\n",
    "    prediction_data[y] = {}\n",
    "    for p, mn in zip(preds, models_name):\n",
    "        prediction_data[y]['preds_'+mn] = p.set_index(index_).loc[y:str(int(y)+1)].reset_index() \n",
    "        "
   ]
  },
  {
   "cell_type": "code",
   "execution_count": 13,
   "metadata": {},
   "outputs": [],
   "source": [
    "# Save Prediction\\_data"
   ]
  },
  {
   "cell_type": "code",
   "execution_count": 14,
   "metadata": {},
   "outputs": [
    {
     "name": "stderr",
     "output_type": "stream",
     "text": [
      "100%|██████████| 3/3 [02:01<00:00, 41.19s/it]\n"
     ]
    }
   ],
   "source": [
    "for y in tqdm(dates['year_list']):\n",
    "    for md in dates['year'][y]['mm-dd']:\n",
    "        m = md[:2]\n",
    "        d = md[3:]\n",
    "        for mn in models_name:\n",
    "            path = '{}preds/{}/{}/{}/'.format(csv_path, y, m, d)\n",
    "            if not os.path.exists(path):\n",
    "                os.makedirs(path)\n",
    "            path_file = '{}{}.csv'.format(path, 'preds_'+mn)\n",
    "            df = prediction_data[y]['preds_'+mn].copy()\n",
    "            stop_id = df.set_index(index_).columns.values.tolist()\n",
    "            df['ymd'] = [i[:10] for i in df.set_index(index_).index.values]\n",
    "            df[index_] = [i[11:] for i in df.set_index(index_).index.values]\n",
    "            df = df.set_index('ymd').loc['{}-{}'.format(y,md)]\n",
    "            df = df.reset_index()[[index_]+stop_id]\n",
    "            utils.stack_df(df).to_csv(path_file, index=False)"
   ]
  },
  {
   "cell_type": "code",
   "execution_count": null,
   "metadata": {},
   "outputs": [],
   "source": []
  }
 ],
 "metadata": {
  "kernelspec": {
   "display_name": "Python 3",
   "language": "python",
   "name": "python3"
  },
  "language_info": {
   "codemirror_mode": {
    "name": "ipython",
    "version": 3
   },
   "file_extension": ".py",
   "mimetype": "text/x-python",
   "name": "python",
   "nbconvert_exporter": "python",
   "pygments_lexer": "ipython3",
   "version": "3.7.3"
  }
 },
 "nbformat": 4,
 "nbformat_minor": 2
}
